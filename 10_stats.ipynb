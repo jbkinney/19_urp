{
 "cells": [
  {
   "cell_type": "markdown",
   "metadata": {},
   "source": [
    "# Notebook 10: Statistics"
   ]
  },
  {
   "cell_type": "code",
   "execution_count": null,
   "metadata": {},
   "outputs": [],
   "source": [
    "import numpy as np\n",
    "import pandas as pd\n",
    "import seaborn as sns\n",
    "import matplotlib.pyplot as plt\n",
    "%matplotlib inline\n",
    "\n",
    "# This is the main statistics package in python\n",
    "import scipy.stats"
   ]
  },
  {
   "cell_type": "markdown",
   "metadata": {},
   "source": [
    "## Probability distributions"
   ]
  },
  {
   "cell_type": "markdown",
   "metadata": {},
   "source": [
    "Here is the scipy.stats documentation:\n",
    "\n",
    "https://docs.scipy.org/doc/scipy/reference/stats.html"
   ]
  },
  {
   "cell_type": "code",
   "execution_count": null,
   "metadata": {},
   "outputs": [],
   "source": [
    "# Normal distribution\n",
    "from scipy.stats import norm, chi2, expon\n",
    "\n",
    "dist = norm #chi2(100)\n",
    "\n",
    "x_min = dist.ppf(.001)\n",
    "x_max = dist.ppf(.999)\n",
    "\n",
    "# Create gridpoints in x\n",
    "x = np.linspace(x_min, x_max, 1000)\n",
    "\n",
    "# Get the values for the probability density\n",
    "y = dist.pdf(x)\n",
    "\n",
    "# Plot the probability distribution\n",
    "#plt.plot(x, y)\n",
    "plt.fill_between(x, y, 0)\n",
    "plt.title('Probability Distribution Function (PDF)');"
   ]
  },
  {
   "cell_type": "code",
   "execution_count": null,
   "metadata": {},
   "outputs": [],
   "source": [
    "# There are other ways to characterize a distribution:\n",
    "y = dist.cdf(x)\n",
    "plt.plot(x,y)\n",
    "plt.title('Cumulative Distribution Function (CDF)');"
   ]
  },
  {
   "cell_type": "code",
   "execution_count": null,
   "metadata": {},
   "outputs": [],
   "source": [
    "y = dist.ppf(x)\n",
    "plt.plot(x,y)\n",
    "plt.title('Percent Point Function (PPF)');"
   ]
  },
  {
   "cell_type": "code",
   "execution_count": null,
   "metadata": {},
   "outputs": [],
   "source": [
    "# draw random numbers\n",
    "samples = dist.rvs(size=100)"
   ]
  },
  {
   "cell_type": "code",
   "execution_count": null,
   "metadata": {},
   "outputs": [],
   "source": [
    "# Histogram random numbers\n",
    "sns.distplot(samples,bins=100)"
   ]
  },
  {
   "cell_type": "markdown",
   "metadata": {},
   "source": [
    "Seaborn tries to estiamte the underlying distribution using a rather crude technique.\n",
    "A more advanced method is implemented in a package called SUFTware (from my lab). It'll not just estimate a probability distribution from data, it will also estimate how uncertain that distribution is.\n",
    "\n",
    "https://suftware.readthedocs.io\n",
    "\n",
    "<img src=\"who.alcohol_consumption.png\" alt=\"Drawing\" style=\"width: 400px;\"/>"
   ]
  },
  {
   "cell_type": "code",
   "execution_count": null,
   "metadata": {},
   "outputs": [],
   "source": [
    "# Install SUFTware\n",
    "#!pip install suftware"
   ]
  },
  {
   "cell_type": "code",
   "execution_count": null,
   "metadata": {},
   "outputs": [],
   "source": [
    "# Suftw\n",
    "import suftware as sw\n",
    "\n",
    "# Make displot again\n",
    "sns.distplot(samples,bins=100)\n",
    "\n",
    "# Estimate probability density with SUFTware\n",
    "est = sw.DensityEstimator(samples, num_posterior_samples=20)\n",
    "\n",
    "# Plot SUFTware estimate\n",
    "x = est.grid\n",
    "#y = est.evaluate(x)\n",
    "y = est.evaluate_samples(x)\n",
    "plt.plot(x,y);"
   ]
  },
  {
   "cell_type": "markdown",
   "metadata": {},
   "source": [
    "## Hypothesis testing"
   ]
  },
  {
   "cell_type": "code",
   "execution_count": null,
   "metadata": {},
   "outputs": [],
   "source": [
    "# Load the example tips dataset\n",
    "tips = sns.load_dataset(\"tips\")\n",
    "tips.head()"
   ]
  },
  {
   "cell_type": "code",
   "execution_count": null,
   "metadata": {},
   "outputs": [],
   "source": [
    "# Draw a nested boxplot to show bills by day and time\n",
    "sns.boxplot(x=\"day\", y=\"total_bill\",\n",
    "            hue=\"smoker\", palette=[\"m\", \"g\"],\n",
    "            data=tips)\n",
    "sns.despine(offset=10, trim=True)"
   ]
  },
  {
   "cell_type": "code",
   "execution_count": null,
   "metadata": {},
   "outputs": [],
   "source": [
    "# Compute tip percentage\n",
    "tips['pct'] = 100*tips['tip']/tips['total_bill']\n",
    "\n",
    "# Make box plot of this\n",
    "sns.boxplot(x=\"sex\", y=\"pct\", data=tips)\n",
    "sns.despine(offset=10, trim=True)"
   ]
  },
  {
   "cell_type": "code",
   "execution_count": null,
   "metadata": {},
   "outputs": [],
   "source": [
    "# Extract data\n",
    "m_tips = tips['pct'][tips['sex']=='Male']\n",
    "f_tips = tips['pct'][tips['sex']=='Female']\n",
    "\n",
    "# Plot data\n",
    "sns.distplot(m_tips, bins=10, label='male')\n",
    "sns.distplot(f_tips, bins=10, label='female')\n",
    "plt.legend()"
   ]
  },
  {
   "cell_type": "code",
   "execution_count": null,
   "metadata": {},
   "outputs": [],
   "source": [
    "t, p = stats.ttest_ind(m_tips,f_tips)\n",
    "print('Pvalue is ', p)"
   ]
  },
  {
   "cell_type": "markdown",
   "metadata": {},
   "source": [
    "## Exercise"
   ]
  },
  {
   "cell_type": "markdown",
   "metadata": {},
   "source": [
    "E10.1: Are smokers' meals less expensive than nonsmokers' meals?"
   ]
  },
  {
   "cell_type": "code",
   "execution_count": null,
   "metadata": {
    "collapsed": true
   },
   "outputs": [],
   "source": [
    "# Answer here"
   ]
  },
  {
   "cell_type": "markdown",
   "metadata": {},
   "source": [
    "E10.2: Do tips vary significantly by day of the week?"
   ]
  },
  {
   "cell_type": "code",
   "execution_count": null,
   "metadata": {
    "collapsed": true
   },
   "outputs": [],
   "source": [
    "# Answer here"
   ]
  },
  {
   "cell_type": "code",
   "execution_count": null,
   "metadata": {
    "collapsed": true
   },
   "outputs": [],
   "source": []
  }
 ],
 "metadata": {
  "kernelspec": {
   "display_name": "anaconda_kernel",
   "language": "python",
   "name": "anaconda_kernel"
  },
  "language_info": {
   "codemirror_mode": {
    "name": "ipython",
    "version": 3
   },
   "file_extension": ".py",
   "mimetype": "text/x-python",
   "name": "python",
   "nbconvert_exporter": "python",
   "pygments_lexer": "ipython3",
   "version": "3.6.6"
  }
 },
 "nbformat": 4,
 "nbformat_minor": 2
}
