{
 "cells": [
  {
   "cell_type": "markdown",
   "metadata": {},
   "source": [
    "# Answers to exercises"
   ]
  },
  {
   "cell_type": "code",
   "execution_count": 1,
   "metadata": {},
   "outputs": [],
   "source": [
    "# Import the usual stuff first\n",
    "import numpy as np\n",
    "import pandas as pd\n",
    "import matplotlib.pyplot as plt\n",
    "%matplotlib inline\n",
    "\n",
    "# We'll need this too\n",
    "import logomaker"
   ]
  },
  {
   "cell_type": "markdown",
   "metadata": {},
   "source": [
    "## 1_introduction.ipynb"
   ]
  },
  {
   "cell_type": "markdown",
   "metadata": {},
   "source": [
    "This course will include a variety of exercises to increase your Python skills. Note that the knowledge needed to complete each exercise will NOT necessarily have been presented or discussed. If you find yourself at sea, **the first thing you should do is Google your question.** This is how 99% of programming is done."
   ]
  },
  {
   "cell_type": "markdown",
   "metadata": {},
   "source": [
    "**E1.1**: Create a markdown cell containing a bulleted list, a numbred list, and a table."
   ]
  },
  {
   "cell_type": "markdown",
   "metadata": {},
   "source": [
    "\\# Answer\n",
    "\n",
    "Bulleted list:\n",
    "- item A\n",
    "- item B\n",
    "- item C\n",
    "\n",
    "Numbered list:\n",
    "1. item A\n",
    "1. item B\n",
    "1. item C\n",
    "\n",
    "Table:\n",
    "\n",
    "| 1 | 2 | 3 |\n",
    "| - | - | - |\n",
    "| a | b | c |\n",
    "| d | e | f |\n",
    "| g | h | i |"
   ]
  },
  {
   "cell_type": "markdown",
   "metadata": {},
   "source": [
    "**E1.2**: Plot $y = x^2$ and $y = e^x$ on the same plot, with $x$ ranging from -3 to 3."
   ]
  },
  {
   "cell_type": "code",
   "execution_count": 2,
   "metadata": {},
   "outputs": [
    {
     "data": {
      "text/plain": [
       "[<matplotlib.lines.Line2D at 0x1223c0f28>]"
      ]
     },
     "execution_count": 2,
     "metadata": {},
     "output_type": "execute_result"
    },
    {
     "data": {
      "image/png": "[encoded data removed]",
      "text/plain": [
       "<Figure size 432x288 with 1 Axes>"
      ]
     },
     "metadata": {},
     "output_type": "display_data"
    }
   ],
   "source": [
    "# Answer\n",
    "\n",
    "x = np.arange(-3,3,0.01)\n",
    "y1 = x**2                \n",
    "y2 = np.exp(x)                \n",
    "plt.plot(x, y1)\n",
    "plt.plot(x, y2)"
   ]
  },
  {
   "cell_type": "markdown",
   "metadata": {},
   "source": [
    "**E1.3**: Using the command line, print the first 100 lines of the file `data/binding_site_db.txt`"
   ]
  },
  {
   "cell_type": "code",
   "execution_count": 3,
   "metadata": {},
   "outputs": [
    {
     "name": "stdout",
     "output_type": "stream",
     "text": [
      "# Copies and Copyright-Notice\r\n",
      "#\r\n",
      "#      RegulonDB is free for academic/noncommercial use\r\n",
      "#\r\n",
      "#      database or to eliminate copyright notices from RegulonDB. Furthermore,\r\n",
      "#      User is not entitled to expand RegulonDB or to integrate RegulonDB partly\r\n",
      "#      or as a whole into other databank systems, without prior written consent\r\n",
      "#      from CCG-UNAM.\r\n",
      "#\r\n",
      "#      Please check the license at http://regulondb.ccg.unam.mx/menu/download/full_version/terms_and_conditions.jsp\r\n",
      "#\r\n",
      "# Citation\r\n",
      "#\r\n",
      "#      Gama-Castro S et al. (2016). \"RegulonDB version 9.0: high-level integration of gene regulation, coexpression, motif clustering and beyond.\",\r\n",
      "#      Nucleic Acids Res. 2016 Jan 4;44(D1):D133-43. doi: 10.1093/nar/gkv1156. Epub 2015 Nov 2.\r\n",
      "#\r\n",
      "#\r\n",
      "# Contact\r\n",
      "#\r\n",
      "#      Person: RegulonDB Team\r\n",
      "#      Web Page: http://regulondb.ccg.unam.mx/menu/about_regulondb/contact_us/index.jsp\r\n",
      "#          (regulondb@ccg.unam.mx)\r\n",
      "#\r\n",
      "#\r\n",
      "# Release: 10.5 Date: 09/13/2018\r\n",
      "# Genome version: U00096.3, Refseq version; NC_000913.3 GI:556503834\r\n",
      "# ___________________________________________________________________________\r\n",
      "# Columns:\r\n",
      "# (1) Transcription Factor (TF) identifier assigned by RegulonDB\r\n",
      "# (2) TF name\r\n",
      "# (3) TF binding site (TF-bs) identifier assigned by RegulonDB\r\n",
      "# (4) TF-bs left end position in the genome\r\n",
      "# (5) TF-bs right end position in the genome\r\n",
      "# (6) DNA strand where the  TF-bs is located\r\n",
      "# (7) TF-Gene interaction identifier assigned by RegulonDB (related to the \"TF gene interactions\" file)\r\n",
      "# (8) Transcription unit regulated by the TF\r\n",
      "# (9) Gene expression effect caused by the TF bound to the  TF-bs (+ activation, - repression, +- dual, ? unknown)\r\n",
      "# (10) Promoter name\r\n",
      "# (11) Center position of TF-bs, relative to Transcription Start Site\r\n",
      "# (12) TF-bs sequence (upper case)\r\n",
      "# (13) Evidence that supports the existence of the TF-bs\r\n",
      "# (14) Evidence confidence level (Confirmed, Strong, Weak)\r\n",
      "ECK120015994\tAcrR\tECK125258528\t485709\t485732\treverse\tECK120033472\tacrAB\t-\tacrAp\t-22.5\tgcgttagattTACATACATTTGTGAATGTATGTAccatagcacg\t[BCE|W|Binding of cellular extracts],[GEA|W|Gene expression analysis],[BPP|S|Binding of purified proteins],[HIBSCS|W|Human inference based on similarity to consensus sequences]\tStrong\r\n",
      "ECK120015994\tAcrR\tECK125258528\t485709\t485732\tforward\tECK125134945\tacrR\t-\tacrRp\t22.5\tcgtgctatggTACATACATTCACAAATGTATGTAaatctaacgc\t[BCE|W|Binding of cellular extracts],[GEA|W|Gene expression analysis],[AIBSCS|W|Automated inference based on similarity to consensus sequences],[BPP|S|Binding of purified proteins],[HIBSCS|W|Human inference based on similarity to consensus sequences]\tStrong\r\n",
      "ECK120015994\tAcrR\tECK125202663\t1619048\t1619058\tforward\tECK125202664\tmarRAB\t-\tmarRp\t-40.5\tcatcggtcaaTTCATTCATTtgacttatac\t[GEA|W|Gene expression analysis],[BPP|S|Binding of purified proteins],[HIBSCS|W|Human inference based on similarity to consensus sequences]\tStrong\r\n",
      "ECK120015994\tAcrR\tECK125242724\t1978422\t1978432\treverse\tECK125242725\tflhDC\t-\tflhDp\t-31.5\ttcactacacgCACATACAACggaggggggc\t[GEA|W|Gene expression analysis],[HIBSCS|W|Human inference based on similarity to consensus sequences]\tWeak\r\n",
      "ECK120015994\tAcrR\tECK120035040\t2313112\t2313135\tforward\tECK120035041\tmicF\t-\tmicFp\t41\tatttattaccGTCATTCATTTCTGAATGTCTGTTtacccctatt\t[AIBSCS|W|Automated inference based on similarity to consensus sequences]\tWeak\r\n",
      "ECK120015994\tAcrR\tECK125202665\t4277444\t4277454\tforward\tECK125202666\tsoxR\t-\tsoxRp\t2.5\tgctttacctcAAGTTAACTTgaggaattat\t[GEA|W|Gene expression analysis],[BPP|S|Binding of purified proteins],[HIBSCS|W|Human inference based on similarity to consensus sequences]\tStrong\r\n",
      "ECK120015994\tAcrR\tECK125202665\t4277444\t4277454\treverse\tECK125202667\tsoxS\t-\tsoxSp\t-25.5\tataattcctcAAGTTAACTTgaggtaaagc\t[GEA|W|Gene expression analysis],[BPP|S|Binding of purified proteins],[HIBSCS|W|Human inference based on similarity to consensus sequences]\tStrong\r\n",
      "ECK120012595\tAda\tECK120012597\t2147589\t2147613\treverse\tECK120031098\talkA\t+\talkAp\t-41.5\tttcagacgctGCGCTTTGCTTTCATATTCCGGTTgtcgcgacgg\t[GEA|W|Gene expression analysis],[SM|S|Site mutation],[BPP|S|Binding of purified proteins],[HIBSCS|W|Human inference based on similarity to consensus sequences]\tStrong\r\n",
      "ECK120012595\tAda\tECK125110266\t2310454\t2310478\treverse\tECK125110267\tada-alkB\t-\tadap\t-38.5\tggtcaccatcACGCAAAAACCAACAATCTTGCGCtttaattttt\t[GEA|W|Gene expression analysis],[SM|S|Site mutation],[BPP|S|Binding of purified proteins],[HIBSCS|W|Human inference based on similarity to consensus sequences]\tStrong\r\n",
      "ECK120012595\tAda\tECK120012905\t2310474\t2310498\treverse\tECK120031887\tada-alkB\t+\tadap\t-58.5\tcaacaatcttGCGCTTTAATTTTTTTCGCTGACAaggaagcttt\t[GEA|W|Gene expression analysis],[SM|S|Site mutation],[BPP|S|Binding of purified proteins],[HIBSCS|W|Human inference based on similarity to consensus sequences]\tStrong\r\n",
      "ECK120012595\tAda\tECK120012982\t4414182\t4414206\tforward\tECK120031821\taidB\t+\taidBp\t-53.5\tcgcattacatTGCTGGATAAGAATGTTTTAGCAAtctctttctg\t[GEA|W|Gene expression analysis],[BPP|S|Binding of purified proteins],[HIBSCS|W|Human inference based on similarity to consensus sequences]\tStrong\r\n",
      "ECK120014170\tAdiY\tECK125258422\t0\t0\treverse\tECK125257687\tadiA\t+\tadiAp\t\t\t[GEA|W|Gene expression analysis],[BPP|S|Binding of purified proteins]\tStrong\r\n",
      "ECK120014170\tAdiY\tECK125258433\t0\t0\tforward\tECK125257701\tgltBDF\t+\tgltBp\t\t\t[BPP|S|Binding of purified proteins]\tStrong\r\n",
      "ECK120014170\tAdiY\tECK125258716\t0\t0\treverse\tECK125258061\tgadBC\t+\tgadBp\t\t\t[BPP|S|Binding of purified proteins]\tStrong\r\n",
      "ECK120014170\tAdiY\tECK125258771\t0\t0\treverse\tECK125258130\tgadAX\t+\tgadAp\t\t\t[BPP|S|Binding of purified proteins]\tStrong\r\n",
      "ECK120012515\tAgaR\tECK120015699\t3278686\t3278705\treverse\tECK120032235\tagaR\t-\tagaRp\t8.5\tttcgtaaaacTTTCGTTTCATTTCGTTTTGcctattaacg\t[GEA|W|Gene expression analysis],[BPP|S|Binding of purified proteins],[HIBSCS|W|Human inference based on similarity to consensus sequences]\tStrong\r\n",
      "ECK120012515\tAgaR\tECK120015701\t3278713\t3278732\treverse\tECK120032234\tagaR\t-\tagaRp\t-19.5\tttgcctattaACGCCTTTCTATTAAGCAAAtgcaagccca\t[GEA|W|Gene expression analysis],[BPP|S|Binding of purified proteins],[HIBSCS|W|Human inference based on similarity to consensus sequences]\tStrong\r\n",
      "ECK120012515\tAgaR\tECK120012521\t3278781\t3278800\tforward\tECK120032231\tkbaZ-agaVWA\t-\tkbaZp\t-75.5\ttttcagtgacTTTCATTATGTTTCTTTTGTgaatcagatc\t[GEA|W|Gene expression analysis],[BPP|S|Binding of purified proteins],[HIBSCS|W|Human inference based on similarity to consensus sequences]\tStrong\r\n",
      "ECK120012515\tAgaR\tECK120012519\t3278825\t3278844\tforward\tECK120032232\tkbaZ-agaVWA\t-\tkbaZp\t-31.5\taaccattatcTTTCGTTTTATTTTTATCTCaccatgacgc\t[GEA|W|Gene expression analysis],[BPP|S|Binding of purified proteins],[HIBSCS|W|Human inference based on similarity to consensus sequences]\tStrong\r\n",
      "ECK120012515\tAgaR\tECK120012517\t3278859\t3278878\tforward\tECK120032233\tkbaZ-agaVWA\t-\tkbaZp\t3.5\ttgacgcagtaTCAACTGAAACAAAACGAAAgattaatatc\t[GEA|W|Gene expression analysis],[BPP|S|Binding of purified proteins],[HIBSCS|W|Human inference based on similarity to consensus sequences]\tStrong\r\n",
      "ECK120012515\tAgaR\tECK120012535\t3281605\t3281624\tforward\tECK120032490\tagaS-kbaY-agaBCDI\t-\tagaSp\t-274.5\tctggattcagGGTCAATTAGCTTCGTTTTGatagtttgct\t[GEA|W|Gene expression analysis],[HIBSCS|W|Human inference based on similarity to consensus sequences],[BPP|S|Binding of purified proteins]\tStrong\r\n",
      "ECK120012515\tAgaR\tECK120012533\t3281668\t3281687\tforward\tECK120032491\tagaS-kbaY-agaBCDI\t-\tagaSp\t-211.5\tccgtaaggccTTTCTTTTTCTTTCGTTTTGatctgtgcag\t[GEA|W|Gene expression analysis],[BPP|S|Binding of purified proteins],[HIBSCS|W|Human inference based on similarity to consensus sequences]\tStrong\r\n",
      "ECK120012515\tAgaR\tECK120012531\t3281785\t3281804\tforward\tECK120032492\tagaS-kbaY-agaBCDI\t-\tagaSp\t-94.5\tgcatccagcaATCCCTTTTGCTTCCTTTATcttttctttc\t[GEA|W|Gene expression analysis],[BPP|S|Binding of purified proteins],[HIBSCS|W|Human inference based on similarity to consensus sequences]\tStrong\r\n",
      "ECK120012515\tAgaR\tECK120012529\t3281827\t3281846\tforward\tECK120032493\tagaS-kbaY-agaBCDI\t-\tagaSp\t-52.5\tcgatcacaaaTTTCGTTTTATTTCTTTTTTctccattgaa\t[GEA|W|Gene expression analysis],[BPP|S|Binding of purified proteins],[HIBSCS|W|Human inference based on similarity to consensus sequences]\tStrong\r\n",
      "ECK120012515\tAgaR\tECK120012527\t3281858\t3281877\tforward\tECK120032494\tagaS-kbaY-agaBCDI\t-\tagaSp\t-21.5\ttccattgaacTTTCAGTTTCTTTTCTATAGattttaatca\t[GEA|W|Gene expression analysis],[BPP|S|Binding of purified proteins],[HIBSCS|W|Human inference based on similarity to consensus sequences]\tStrong\r\n",
      "ECK120012515\tAgaR\tECK120012525\t3281901\t3281920\tforward\tECK120032495\tagaS-kbaY-agaBCDI\t-\tagaSp\t22.5\taaagacatcaCCAAGTGAAATGAAACGAAAggcaagtgaa\t[GEA|W|Gene expression analysis],[BPP|S|Binding of purified proteins],[HIBSCS|W|Human inference based on similarity to consensus sequences]\tStrong\r\n",
      "ECK125134683\tAidB\tECK125134685\t4414186\t4414212\tforward\tECK125134686\taidB\t-\taidBp\t-48\tttacattgctGGATAAGAATGTTTTAGCAATCTCTTtctgtcatga\t[GEA|W|Gene expression analysis],[BPP|S|Binding of purified proteins]\tStrong\r\n",
      "ECK120030264\tAlaS\tECK120030267\t2822080\t2822114\treverse\tECK120032500\talaS\t-\talaSp\t-6.5\tccgggctggtAACTGAAAAGTGGGAATAAGATAAGTTTTCTTGActgggaagta\t[GEA|W|Gene expression analysis],[BPP|S|Binding of purified proteins]\tStrong\r\n",
      "ECK120015630\tAllR\tECK120015632\t532329\t532345\tforward\tECK125140770\tallA\t-\tallAp\t-53\taatacaaaagTTGGAATATTTTTCCAAaactagattt\t[BCE|W|Binding of cellular extracts],[GEA|W|Gene expression analysis],[SM|S|Site mutation],[BPP|S|Binding of purified proteins]\tStrong\r\n",
      "ECK120015630\tAllR\tECK120015632\t532329\t532345\treverse\tECK125140771\tallS\t-\tallSp\t-37\taaatctagttTTGGAAAAATATTCCAActtttgtatt\t[BCE|W|Binding of cellular extracts],[GEA|W|Gene expression analysis],[SM|S|Site mutation],[BPP|S|Binding of purified proteins]\tStrong\r\n",
      "ECK120015630\tAllR\tECK120018500\t533879\t533895\tforward\tECK125140772\tgcl-hyi-glxR-ybbW-allB-ybbY-glxK\t-\tgclp\t-20\taatttgaaagTTGGAAAAATTTTCCAAtaaatagagg\t[BCE|W|Binding of cellular extracts],[GEA|W|Gene expression analysis],[SM|S|Site mutation],[BPP|S|Binding of purified proteins]\tStrong\r\n",
      "ECK120015636\tAllS\tECK120018499\t546498\t546513\treverse\tECK125140773\tallDCE\t+\tallDp\t-94\ttttaacctgaTTTTTAAAACAACAAcgcttattaa\t[BCE|W|Binding of cellular extracts],[HIBSCS|W|Human inference based on similarity to consensus sequences]\tWeak\r\n",
      "ECK120011959\tAlsR\tECK125258299\t0\t0\tforward\tECK125257544\trpiB\t-\trpiBp\t\t\t[GEA|W|Gene expression analysis]\tWeak\r\n",
      "ECK120011959\tAlsR\tECK125258343\t0\t0\treverse\tECK125257594\talsRBACE\t-\talsRp1\t\t\t[GEA|W|Gene expression analysis]\tWeak\r\n",
      "ECK120011959\tAlsR\tECK125258822\t0\t0\treverse\tECK125258191\talsRBACE\t-\talsRp2\t\t\t[GEA|W|Gene expression analysis]\tWeak\r\n",
      "ECK120012987\tAppY\tECK125258346\t0\t0\tforward\tECK125257597\tappCBXA\t+\tappCp\t\t\t[GEA|W|Gene expression analysis]\tWeak\r\n",
      "ECK120012987\tAppY\tECK125258408\t0\t0\tforward\tECK125257671\thyaABCDEF\t+\thyaAp\t\t\t[GEA|W|Gene expression analysis]\tWeak\r\n",
      "ECK120012316\tAraC\tECK125258849\t0\t0\treverse\tECK125258222\tydeNM\t-\tydeNp\t\t\t[GEA|W|Gene expression analysis]\tWeak\r\n",
      "ECK120012316\tAraC\tECK120015742\t70110\t70126\treverse\tECK120034641\taraBAD\t+\taraBp\t-43\ttccataagatTAGCGGATCCTACCTGAcgctttttat\t[GEA|W|Gene expression analysis],[SM|S|Site mutation],[HIBSCS|W|Human inference based on similarity to consensus sequences],[BPP|S|Binding of purified proteins]\tStrong\r\n",
      "ECK120012316\tAraC\tECK120015742\t70110\t70126\tforward\tECK120034644\taraC\t+\taraCp\t-123\tataaaaagcgTCAGGTAGGATCCGCTAatcttatgga\t[GEA|W|Gene expression analysis],[SM|S|Site mutation],[BPP|S|Binding of purified proteins],[HIBSCS|W|Human inference based on similarity to consensus sequences]\tStrong\r\n",
      "ECK120012316\tAraC\tECK120012328\t70131\t70147\treverse\tECK120030768\taraBAD\t+-\taraBp\t-64\ttgctatgccaTAGCATTTTTATCCATAagattagcgg\t[GEA|W|Gene expression analysis],[SM|S|Site mutation],[BPP|S|Binding of purified proteins],[HIBSCS|W|Human inference based on similarity to consensus sequences]\tStrong\r\n",
      "ECK120012316\tAraC\tECK120012328\t70131\t70147\treverse\tECK120030769\taraBAD\t+-\taraBp\t-64\ttgctatgccaTAGCATTTTTATCCATAagattagcgg\t[GEA|W|Gene expression analysis],[SM|S|Site mutation],[BPP|S|Binding of purified proteins],[HIBSCS|W|Human inference based on similarity to consensus sequences]\tStrong\r\n",
      "ECK120012316\tAraC\tECK120012328\t70131\t70147\tforward\tECK120030770\taraC\t+-\taraCp\t-102\tccgctaatctTATGGATAAAAATGCTAtggcatagca\t[GEA|W|Gene expression analysis],[SM|S|Site mutation],[BPP|S|Binding of purified proteins],[HIBSCS|W|Human inference based on similarity to consensus sequences]\tStrong\r\n",
      "ECK120012316\tAraC\tECK120012328\t70131\t70147\tforward\tECK120030771\taraC\t+-\taraCp\t-102\tccgctaatctTATGGATAAAAATGCTAtggcatagca\t[GEA|W|Gene expression analysis],[SM|S|Site mutation],[BPP|S|Binding of purified proteins],[HIBSCS|W|Human inference based on similarity to consensus sequences]\tStrong\r\n",
      "ECK120012316\tAraC\tECK120012320\t70184\t70200\treverse\tECK120034643\taraBAD\t-\taraBp\t-117\ttctataatcaCGGCAGAAAAGTCCACAttgattattt\t[BCE|W|Binding of cellular extracts],[GEA|W|Gene expression analysis],[SM|S|Site mutation],[HIBSCS|W|Human inference based on similarity to consensus sequences]\tStrong\r\n",
      "ECK120012316\tAraC\tECK120012320\t70184\t70200\tforward\tECK120034645\taraC\t-\taraCp\t-49\taaataatcaaTGTGGACTTTTCTGCCGtgattataga\t[BCE|W|Binding of cellular extracts],[GEA|W|Gene expression analysis],[SM|S|Site mutation],[HIBSCS|W|Human inference based on similarity to consensus sequences]\tStrong\r\n",
      "ECK120012316\tAraC\tECK120012323\t70205\t70221\treverse\tECK120034642\taraBAD\t-\taraBp\t-138\tcaaaaacgcgTAACAAAAGTGTCTATAatcacggcag\t[BCE|W|Binding of cellular extracts],[GEA|W|Gene expression analysis],[SM|S|Site mutation],[HIBSCS|W|Human inference based on similarity to consensus sequences]\tStrong\r\n",
      "ECK120012316\tAraC\tECK120012323\t70205\t70221\tforward\tECK120034646\taraC\t-\taraCp\t-28\tctgccgtgatTATAGACACTTTTGTTAcgcgtttttg\t[BCE|W|Binding of cellular extracts],[GEA|W|Gene expression analysis],[SM|S|Site mutation],[HIBSCS|W|Human inference based on similarity to consensus sequences]\tStrong\r\n",
      "ECK120012316\tAraC\tECK120012603\t70342\t70358\treverse\tECK120031103\taraBAD\t-\taraBp\t-275\tattcagagaaGAAACCAATTGTCCATAttgcatcaga\t[BCE|W|Binding of cellular extracts],[SM|S|Site mutation],[HIBSCS|W|Human inference based on similarity to consensus sequences],[BPP|S|Binding of purified proteins]\tStrong\r\n",
      "ECK120012316\tAraC\tECK120012603\t70342\t70358\tforward\tECK120031108\taraC\t-\taraCp\t110\ttctgatgcaaTATGGACAATTGGTTTCttctctgaat\t[BCE|W|Binding of cellular extracts],[SM|S|Site mutation],[HIBSCS|W|Human inference based on similarity to consensus sequences],[BPP|S|Binding of purified proteins]\tStrong\r\n",
      "ECK120012316\tAraC\tECK120012335\t412564\t412580\treverse\tECK120034716\taraJ\t+\taraJp\t-43\tcagcaaggccAAGAGATAATTCGCCCCtctgtattca\t[AIBSCS|W|Automated inference based on similarity to consensus sequences],[BPP|S|Binding of purified proteins]\tStrong\r\n",
      "ECK120012316\tAraC\tECK120012992\t412585\t412601\treverse\tECK120031833\taraJ\t+\taraJp\t-64\tcgcccctctgTATTCATTATCCTGCTGaatagttatt\t[HIBSCS|W|Human inference based on similarity to consensus sequences],[BPP|S|Binding of purified proteins]\tStrong\r\n",
      "ECK120012316\tAraC\tECK120012990\t1986300\t1986316\treverse\tECK120034714\taraFGH\t+\taraFp\t-70\tcgcagaattaCAGTGAGAACGTGCATAaatttagcgg\t[BPP|S|Binding of purified proteins],[HIBSCS|W|Human inference based on similarity to consensus sequences]\tStrong\r\n",
      "ECK120012316\tAraC\tECK120012331\t1986321\t1986337\treverse\tECK120034713\taraFGH\t+\taraFp\t-91\ttgcataaattTAGCGGGAAAAGACATAagggaaagcc\t[SM|S|Site mutation],[BPP|S|Binding of purified proteins]\tStrong\r\n",
      "ECK120012316\tAraC\tECK120013555\t1986375\t1986391\treverse\tECK120034715\taraFGH\t+\taraFp\t-145\tgtcgaatgcaCAGCAGATTAATCCATAagattagcct\t[AIBSCS|W|Automated inference based on similarity to consensus sequences],[BPP|S|Binding of purified proteins],[HIBSCS|W|Human inference based on similarity to consensus sequences]\tStrong\r\n",
      "ECK120012316\tAraC\tECK120012333\t1986396\t1986412\treverse\tECK120034712\taraFGH\t+\taraFp\t-166\ttccataagatTAGCCTGGAAATCCTTGttgtctttgg\t[SM|S|Site mutation],[BPP|S|Binding of purified proteins]\tStrong\r\n",
      "ECK120012316\tAraC\tECK120012915\t2982244\t2982260\treverse\tECK120034718\taraE\t+\taraEp\t-44\tcacgcaggtgTCAGGTCGGAAACAGCAtaaatatgga\t[HIBSCS|W|Human inference based on similarity to consensus sequences],[BPP|S|Binding of purified proteins]\tStrong\r\n",
      "ECK120012316\tAraC\tECK120012915\t2982244\t2982260\treverse\tECK120034718\taraE-ygeA\t+\taraEp\t-44\tcacgcaggtgTCAGGTCGGAAACAGCAtaaatatgga\t[HIBSCS|W|Human inference based on similarity to consensus sequences],[BPP|S|Binding of purified proteins]\tStrong\r\n"
     ]
    }
   ],
   "source": [
    "# Answer\n",
    "\n",
    "!head -n 100 data/binding_site_db.txt"
   ]
  },
  {
   "cell_type": "markdown",
   "metadata": {},
   "source": [
    "## 2_datatypes.ipynb"
   ]
  },
  {
   "cell_type": "markdown",
   "metadata": {},
   "source": [
    "Here is the DNA sequence of the multiple cloning site (MCS) on the plasmid [pcDNA5](https://www.addgene.org/vector-database/2132/), a popular vector for mammalian gene expression."
   ]
  },
  {
   "cell_type": "code",
   "execution_count": 4,
   "metadata": {},
   "outputs": [
    {
     "name": "stdout",
     "output_type": "stream",
     "text": [
      "GAGACCCAAGCTGGCTAGCGTTTAAACTTAAGCTTGGTACCGAGCTCGGATCCACTAGTCCAGTGTGGTGGAATTCTGCAGATATCCAGCACAGTGGCGGCCGCTCGAGTCTAGAGGGCCCGTTTAAACCCGCTGATCAGCCT\n"
     ]
    }
   ],
   "source": [
    "# Note how to define a long string over multiple lines\n",
    "mcs_seq = 'GAGACCCAAGCTGGCTAGCGTTTAAACTTAAGCTTGGTACCGAGCTCGGATCCACTA' \\\n",
    "          'GTCCAGTGTGGTGGAATTCTGCAGATATCCAGCACAGTGGCGGCCGCTCGAGTCTAG' \\\n",
    "          'AGGGCCCGTTTAAACCCGCTGATCAGCCT'\n",
    "print(mcs_seq)"
   ]
  },
  {
   "cell_type": "markdown",
   "metadata": {},
   "source": [
    "**E2.1**: Does this MCS contain a restriction site for NheI (GCTAGC)? How about for MscI (TGGCCA)? "
   ]
  },
  {
   "cell_type": "code",
   "execution_count": 5,
   "metadata": {},
   "outputs": [
    {
     "name": "stdout",
     "output_type": "stream",
     "text": [
      "NheI:  True\n",
      "MscI:  False\n"
     ]
    }
   ],
   "source": [
    "# Answer\n",
    "\n",
    "site_NheI = 'GCTAGC'\n",
    "site_MscI = 'TGGCCA'\n",
    "\n",
    "print('NheI: ', site_NheI in mcs_seq)\n",
    "print('MscI: ', site_MscI in mcs_seq)"
   ]
  },
  {
   "cell_type": "markdown",
   "metadata": {},
   "source": [
    "**E2.2**: Using the string method `.find()`, find the location(s) of the above restriction sites within the MCS."
   ]
  },
  {
   "cell_type": "code",
   "execution_count": 6,
   "metadata": {},
   "outputs": [
    {
     "name": "stdout",
     "output_type": "stream",
     "text": [
      "site starts at position 13\n",
      "found site:  GCTAGC\n",
      "NheI site :  GCTAGC\n"
     ]
    }
   ],
   "source": [
    "# find site\n",
    "site_start = mcs_seq.find(site_NheI)\n",
    "print('site starts at position %d'%site_start)\n",
    "\n",
    "# check\n",
    "site_stop = site_start + len(site_NheI)\n",
    "print('found site: ', mcs_seq[site_start:site_stop])\n",
    "print('NheI site : ', site_NheI)"
   ]
  },
  {
   "cell_type": "markdown",
   "metadata": {},
   "source": [
    "**E2.3**: Using the string method `.replace()`, compute the RNA sequence transcribed from the GFP gene sequence (given below). "
   ]
  },
  {
   "cell_type": "code",
   "execution_count": 7,
   "metadata": {},
   "outputs": [
    {
     "data": {
      "text/plain": [
       "'AUGAGUAAAGGAGAAGAACUUUUCACUGGAGUUGUCCCAAUUCUUGUUGAAUUAGAUGGUGAUGUUAAUGGGCACAAAUUUUCUGUCAGUGGAGAGGGUGAAGGUGAUGCAACAUACGGAAAACUUACCCUUAAAUUUAUUUGCACUACUGGAAAACUACCUGUUCCAUGGCCAACACUUGUCACUACUUUCGCGUAUGGUCUUCAAUGCUUUGCGAGAUACCCAGAUCAUAUGAAACAGCAUGACUUUUUCAAGAGUGCCAUGCCCGAAGGUUAUGUACAGGAAAGAACUAUAUUUUUCAAAGAUGACGGGAACUACAAGACACGUGCUGAAGUCAAGUUUGAAGGUGAUACCCUUGUUAAUAGAAUCGAGUUAAAAGGUAUUGAUUUUAAAGAAGAUGGAAACAUUCUUGGACACAAAUUGGAAUACAACUAUAACUCACACAAUGUAUACAUCAUGGCAGACAAACAAAAGAAUGGAAUCAAAGUUAACUUCAAAAUUAGACACAACAUUGAAGAUGGAAGCGUUCAACUAGCAGACCAUUAUCAACAAAAUACUCCAAUUGGCGAUGGCCCUGUCCUUUUACCAGACAACCAUUACCUGUCCACACAAUCUGCCCUUUCGAAAGAUCCCAACGAAAAGAGAGACCACAUGGUCCUUCUUGAGUUUGUAACAGCUGCUGGGAUUACACAUGGCAUGGAUGAACUAUACAAAUAA'"
      ]
     },
     "execution_count": 7,
     "metadata": {},
     "output_type": "execute_result"
    }
   ],
   "source": [
    "gfp_seq = 'ATGAGTAAAGGAGAAGAACTTTTCACTGGAGTTGTCCCAATTCTTGTTGAATTAGATGGTGATG' \\\n",
    "          'TTAATGGGCACAAATTTTCTGTCAGTGGAGAGGGTGAAGGTGATGCAACATACGGAAAACTTAC' \\\n",
    "          'CCTTAAATTTATTTGCACTACTGGAAAACTACCTGTTCCATGGCCAACACTTGTCACTACTTTC' \\\n",
    "          'GCGTATGGTCTTCAATGCTTTGCGAGATACCCAGATCATATGAAACAGCATGACTTTTTCAAGA' \\\n",
    "          'GTGCCATGCCCGAAGGTTATGTACAGGAAAGAACTATATTTTTCAAAGATGACGGGAACTACAA' \\\n",
    "          'GACACGTGCTGAAGTCAAGTTTGAAGGTGATACCCTTGTTAATAGAATCGAGTTAAAAGGTATT' \\\n",
    "          'GATTTTAAAGAAGATGGAAACATTCTTGGACACAAATTGGAATACAACTATAACTCACACAATG' \\\n",
    "          'TATACATCATGGCAGACAAACAAAAGAATGGAATCAAAGTTAACTTCAAAATTAGACACAACAT' \\\n",
    "          'TGAAGATGGAAGCGTTCAACTAGCAGACCATTATCAACAAAATACTCCAATTGGCGATGGCCCT' \\\n",
    "          'GTCCTTTTACCAGACAACCATTACCTGTCCACACAATCTGCCCTTTCGAAAGATCCCAACGAAA' \\\n",
    "          'AGAGAGACCACATGGTCCTTCTTGAGTTTGTAACAGCTGCTGGGATTACACATGGCATGGATGA' \\\n",
    "          'ACTATACAAATAA'\n",
    "\n",
    "# Answer here\n",
    "gfp_rna = gfp_seq.replace('T','U')\n",
    "gfp_rna"
   ]
  },
  {
   "cell_type": "markdown",
   "metadata": {},
   "source": [
    "**E2.4**: Create a dictionary called `rc_dict` that maps DNA bases to their complementary bases. I.e., A -> T, C -> G, etc. "
   ]
  },
  {
   "cell_type": "code",
   "execution_count": 8,
   "metadata": {},
   "outputs": [
    {
     "data": {
      "text/plain": [
       "'T'"
      ]
     },
     "execution_count": 8,
     "metadata": {},
     "output_type": "execute_result"
    }
   ],
   "source": [
    "# Answer\n",
    "rc_dict = {'A':'T', 'C':'G', 'G':'C', 'T':'A'}\n",
    "\n",
    "# For example:\n",
    "rc_dict['A']"
   ]
  },
  {
   "cell_type": "code",
   "execution_count": 9,
   "metadata": {},
   "outputs": [
    {
     "data": {
      "text/plain": [
       "{65: 'T', 67: 'G', 71: 'C', 84: 'A'}"
      ]
     },
     "execution_count": 9,
     "metadata": {},
     "output_type": "execute_result"
    }
   ],
   "source": [
    "# To compute the reverse complement, we need to create a 'translation table',\n",
    "# which is also a dictionary, but takes numerical ascii values as keys\n",
    "# instead of strings\n",
    "rc_table = str.maketrans(rc_dict)\n",
    "rc_table"
   ]
  },
  {
   "cell_type": "markdown",
   "metadata": {},
   "source": [
    "**E2.5**: By passing `rc_table` to the string method `.translate()`, then using indexing with a step of -1, compute the reverse complement of the MCS sequence given above."
   ]
  },
  {
   "cell_type": "code",
   "execution_count": 10,
   "metadata": {},
   "outputs": [
    {
     "name": "stdout",
     "output_type": "stream",
     "text": [
      "FW: GAGACCCAAGCTGGCTAGCGTTTAAACTTAAGCTTGGTACCGAGCTCGGATCCACTAGTCCAGTGTGGTGGAATTCTGCAGATATCCAGCACAGTGGCGGCCGCTCGAGTCTAGAGGGCCCGTTTAAACCCGCTGATCAGCCT\n",
      "RC: AGGCTGATCAGCGGGTTTAAACGGGCCCTCTAGACTCGAGCGGCCGCCACTGTGCTGGATATCTGCAGAATTCCACCACACTGGACTAGTGGATCCGAGCTCGGTACCAAGCTTAAGTTTAAACGCTAGCCAGCTTGGGTCTC\n"
     ]
    }
   ],
   "source": [
    "# Compute reverse complement\n",
    "mcs_seq_rc = mcs_seq.translate(rc_table)[::-1]\n",
    "\n",
    "# Print forward and RC sequences\n",
    "print('FW:', mcs_seq)\n",
    "print('RC:', mcs_seq_rc)"
   ]
  },
  {
   "cell_type": "markdown",
   "metadata": {},
   "source": [
    "**E2.6**: We have not yet discussed sets. Using Google, figure out what `set` objects are and explain what they represent. In particular, explain why Python evaluates {2,3,3} < {1,2,3} as True."
   ]
  },
  {
   "cell_type": "code",
   "execution_count": 11,
   "metadata": {},
   "outputs": [
    {
     "name": "stdout",
     "output_type": "stream",
     "text": [
      "{2,3,3} == {2,3} is True.\n",
      "{2,3} < {1,2,3} is True.\n"
     ]
    }
   ],
   "source": [
    "# Sets are like lists, but the elements therein don't have a specific order.\n",
    "# Moreover, each element can occur at most once. \n",
    "# So {2,3,3} and {2,3} are the same set. To see this:\n",
    "print('{2,3,3} == {2,3} is %s.'%({2,3,3} == {2,3}))\n",
    "\n",
    "# The '<' sign is interpreted as Python as 'is subset'. Because\n",
    "# {2,3} is a subset of {1,2,3}, this evaluates to true\n",
    "print('{2,3} < {1,2,3} is %s.'%({2,3} < {1,2,3}))"
   ]
  },
  {
   "cell_type": "markdown",
   "metadata": {},
   "source": [
    "## 3_flowcontrol.ipynb"
   ]
  },
  {
   "cell_type": "markdown",
   "metadata": {},
   "source": [
    "Before there were calculators, people had to compute numbers like $\\pi$ by hand. This was done by deriving an infinite series expression, then hand-computing the first $N$ terms using standard arithmetic. One way of computing $\\pi$ was the **Leibnitz series**:\n",
    "\n",
    "$$\\pi = 4 \\left(1 - \\frac{1}{3} + \\frac{1}{5} - \\frac{1}{7} + \\cdots \\right) = \\sum_{n=0}^\\infty 4 \\frac{(-1)^n}{2n+1}$$\n",
    "\n",
    "A different way of computing $\\pi$ was the **Madhava series**:\n",
    "\n",
    "$$ \\pi = \\sqrt{12} \\left( 1 - \\frac{1}{3 \\cdot 3} + \\frac{1}{5 \\cdot 3^2}  - \\frac{1}{7 \\cdot 3^3}  + \\cdots \\right) = \\sum_{n=0}^\\infty \\sqrt{12} \\frac{(-1)^n}{(2n+1)\\cdot 3^n} $$\n",
    "\n",
    "We will compare the accuracies of these series in two different ways."
   ]
  },
  {
   "cell_type": "markdown",
   "metadata": {},
   "source": [
    "**E3.1**: Using a `for` loop, estimate $\\pi$ using the first $10$ terms in both the Liebnitz and Madhava series. Which estimate is more accurate?"
   ]
  },
  {
   "cell_type": "code",
   "execution_count": 12,
   "metadata": {},
   "outputs": [
    {
     "name": "stdout",
     "output_type": "stream",
     "text": [
      "pi_L = 3.041839618929403\n",
      "pi_M = 3.141590510938080\n",
      "pi   = 3.141592653589793\n",
      "The Madhava series is far more accurate\n"
     ]
    }
   ],
   "source": [
    "# Answer \n",
    "\n",
    "# Initialize both estimates of pi to zero\n",
    "pi_L = 0\n",
    "pi_M = 0\n",
    "\n",
    "# Iterate over n, each time adding the next term to each approximation\n",
    "for n in range(10):\n",
    "    pi_L += 4 * (-1)**n / (2*n + 1)\n",
    "    pi_M += np.sqrt(12) * (-1)**n / ((2*n+1) * 3**n)\n",
    "    \n",
    "# Print the results\n",
    "print('pi_L = %.15f'%pi_L)\n",
    "print('pi_M = %.15f'%pi_M)\n",
    "print('pi   = %.15f'%np.pi)\n",
    "print('The Madhava series is far more accurate')"
   ]
  },
  {
   "cell_type": "markdown",
   "metadata": {},
   "source": [
    "**E3.2**: Write a function that computes the Leibnitz series for $\\pi$ to a specified number of terms. Include a docstring and checks to make sure the input is sane."
   ]
  },
  {
   "cell_type": "code",
   "execution_count": 13,
   "metadata": {},
   "outputs": [
    {
     "name": "stdout",
     "output_type": "stream",
     "text": [
      "pi_leibnitz(1) = 4.0000000000\n",
      "pi_leibnitz(10) = 3.0418396189\n",
      "pi_leibnitz(100) = 3.1315929036\n",
      "pi_leibnitz(1000) = 3.1405926538\n"
     ]
    }
   ],
   "source": [
    "# Write function here \n",
    "\n",
    "def pi_leibnitz(N):\n",
    "    \"\"\"\n",
    "    Computes the Liebnitz series for pi to N terms. \n",
    "    N must be an int >= 0.\n",
    "    \"\"\"\n",
    "    \n",
    "    # Check input\n",
    "    assert isinstance(N,int), 'N must be an integer'\n",
    "    assert N >= 0, 'N must be positive'\n",
    "    \n",
    "    # Compute terms\n",
    "    ns = np.arange(N)\n",
    "    terms = 4*((-1)**ns / (2*ns+1))\n",
    "    approx = terms.sum()\n",
    "    \n",
    "    # Return estimte to user\n",
    "    return approx\n",
    "\n",
    "# To check that this is working\n",
    "for N in [1,10, 100, 1000]:\n",
    "    print('pi_leibnitz(%d) = %.10f'%(N,pi_leibnitz(N)))"
   ]
  },
  {
   "cell_type": "code",
   "execution_count": 14,
   "metadata": {
    "collapsed": true
   },
   "outputs": [],
   "source": [
    "# Check that the docstring works\n",
    "pi_leibnitz?"
   ]
  },
  {
   "cell_type": "code",
   "execution_count": 15,
   "metadata": {},
   "outputs": [
    {
     "ename": "AssertionError",
     "evalue": "N must be an integer",
     "output_type": "error",
     "traceback": [
      "\u001b[0;31m---------------------------------------------------------------------------\u001b[0m",
      "\u001b[0;31mAssertionError\u001b[0m                            Traceback (most recent call last)",
      "\u001b[0;32m<ipython-input-15-d0986486f3da>\u001b[0m in \u001b[0;36m<module>\u001b[0;34m()\u001b[0m\n\u001b[1;32m      1\u001b[0m \u001b[0;31m# Check that crazy input is caught\u001b[0m\u001b[0;34m\u001b[0m\u001b[0;34m\u001b[0m\u001b[0m\n\u001b[0;32m----> 2\u001b[0;31m \u001b[0mpi_leibnitz\u001b[0m\u001b[0;34m(\u001b[0m\u001b[0;36m.5\u001b[0m\u001b[0;34m)\u001b[0m\u001b[0;34m\u001b[0m\u001b[0m\n\u001b[0m",
      "\u001b[0;32m<ipython-input-13-9e8be06de67d>\u001b[0m in \u001b[0;36mpi_leibnitz\u001b[0;34m(N)\u001b[0m\n\u001b[1;32m      8\u001b[0m \u001b[0;34m\u001b[0m\u001b[0m\n\u001b[1;32m      9\u001b[0m     \u001b[0;31m# Check input\u001b[0m\u001b[0;34m\u001b[0m\u001b[0;34m\u001b[0m\u001b[0m\n\u001b[0;32m---> 10\u001b[0;31m     \u001b[0;32massert\u001b[0m \u001b[0misinstance\u001b[0m\u001b[0;34m(\u001b[0m\u001b[0mN\u001b[0m\u001b[0;34m,\u001b[0m\u001b[0mint\u001b[0m\u001b[0;34m)\u001b[0m\u001b[0;34m,\u001b[0m \u001b[0;34m'N must be an integer'\u001b[0m\u001b[0;34m\u001b[0m\u001b[0m\n\u001b[0m\u001b[1;32m     11\u001b[0m     \u001b[0;32massert\u001b[0m \u001b[0mN\u001b[0m \u001b[0;34m>=\u001b[0m \u001b[0;36m0\u001b[0m\u001b[0;34m,\u001b[0m \u001b[0;34m'N must be positive'\u001b[0m\u001b[0;34m\u001b[0m\u001b[0m\n\u001b[1;32m     12\u001b[0m \u001b[0;34m\u001b[0m\u001b[0m\n",
      "\u001b[0;31mAssertionError\u001b[0m: N must be an integer"
     ]
    }
   ],
   "source": [
    "# Check that crazy input is caught\n",
    "pi_leibnitz(.5)"
   ]
  },
  {
   "cell_type": "markdown",
   "metadata": {},
   "source": [
    "## 4_tfanalysis.ipynb"
   ]
  },
  {
   "cell_type": "code",
   "execution_count": 16,
   "metadata": {},
   "outputs": [
    {
     "data": {
      "text/html": [
       "<div>\n",
       "<style scoped>\n",
       "    .dataframe tbody tr th:only-of-type {\n",
       "        vertical-align: middle;\n",
       "    }\n",
       "\n",
       "    .dataframe tbody tr th {\n",
       "        vertical-align: top;\n",
       "    }\n",
       "\n",
       "    .dataframe thead th {\n",
       "        text-align: right;\n",
       "    }\n",
       "</style>\n",
       "<table border=\"1\" class=\"dataframe\">\n",
       "  <thead>\n",
       "    <tr style=\"text-align: right;\">\n",
       "      <th></th>\n",
       "      <th>tf</th>\n",
       "      <th>site</th>\n",
       "      <th>length</th>\n",
       "    </tr>\n",
       "  </thead>\n",
       "  <tbody>\n",
       "    <tr>\n",
       "      <th>321</th>\n",
       "      <td>CRP</td>\n",
       "      <td>TTGATGACATAAGCAGGATTTAGCTCACACTTATCGACGGTG</td>\n",
       "      <td>42</td>\n",
       "    </tr>\n",
       "    <tr>\n",
       "      <th>322</th>\n",
       "      <td>CRP</td>\n",
       "      <td>ATAAGCTGTATTCTGTGATTGGTATCACATTTTTGTTTCGGG</td>\n",
       "      <td>42</td>\n",
       "    </tr>\n",
       "    <tr>\n",
       "      <th>323</th>\n",
       "      <td>CRP</td>\n",
       "      <td>GACTTTCAATATTGGTGATCCATAAAACAATATTGAAAATTT</td>\n",
       "      <td>42</td>\n",
       "    </tr>\n",
       "    <tr>\n",
       "      <th>324</th>\n",
       "      <td>CRP</td>\n",
       "      <td>TGTTTTCAATATTGGTGAGGAACTTAACAATATTGAAAGTTG</td>\n",
       "      <td>42</td>\n",
       "    </tr>\n",
       "    <tr>\n",
       "      <th>325</th>\n",
       "      <td>CRP</td>\n",
       "      <td>TCCACATTGATTATTTGCACGGCGTCACACTTTGCTATGCCA</td>\n",
       "      <td>42</td>\n",
       "    </tr>\n",
       "  </tbody>\n",
       "</table>\n",
       "</div>"
      ],
      "text/plain": [
       "      tf                                        site  length\n",
       "321  CRP  TTGATGACATAAGCAGGATTTAGCTCACACTTATCGACGGTG      42\n",
       "322  CRP  ATAAGCTGTATTCTGTGATTGGTATCACATTTTTGTTTCGGG      42\n",
       "323  CRP  GACTTTCAATATTGGTGATCCATAAAACAATATTGAAAATTT      42\n",
       "324  CRP  TGTTTTCAATATTGGTGAGGAACTTAACAATATTGAAAGTTG      42\n",
       "325  CRP  TCCACATTGATTATTTGCACGGCGTCACACTTTGCTATGCCA      42"
      ]
     },
     "execution_count": 16,
     "metadata": {},
     "output_type": "execute_result"
    }
   ],
   "source": [
    "# Cells in 4_tfanalysis.ipynb\n",
    "\n",
    "# Load dataframe\n",
    "df = pd.read_csv(\"data/binding_site_db.txt\", sep='\\t', comment='#',\n",
    "                 header=None, usecols=[1,11], names=['tf','site']).dropna()\n",
    "\n",
    "# Choose a TF\n",
    "tf = 'CRP'\n",
    "\n",
    "# Flag which rows in the dataframe have the correct TF name\n",
    "flags = (df['tf']==tf)\n",
    "\n",
    "# Grab those rows. To be safe use copy() to make sure that, if we\n",
    "# alter tf_df, df itself doesn't change\n",
    "tf_df = df[flags].copy()\n",
    "\n",
    "# Get list of capitalized sites and replace the 'site' column with this\n",
    "capitalized_sites = [site.upper() for site in tf_df['site']]\n",
    "tf_df['site'] = capitalized_sites\n",
    "\n",
    "# Compute the length of each site and record this in a 'length' column\n",
    "site_lengths = [len(site) for site in tf_df['site']]\n",
    "tf_df['length'] = site_lengths\n",
    "\n",
    "# preview dataframe\n",
    "tf_df.head()"
   ]
  },
  {
   "cell_type": "markdown",
   "metadata": {},
   "source": [
    "**E4.1.** Use the `unique()` method to determine the lengths of the listed TF binding sites."
   ]
  },
  {
   "cell_type": "code",
   "execution_count": 17,
   "metadata": {},
   "outputs": [
    {
     "data": {
      "text/plain": [
       "array([42, 36, 43, 37, 40, 38, 33])"
      ]
     },
     "execution_count": 17,
     "metadata": {},
     "output_type": "execute_result"
    }
   ],
   "source": [
    "# Answer here\n",
    "tf_df['length'].unique()"
   ]
  },
  {
   "cell_type": "markdown",
   "metadata": {},
   "source": [
    "**E4.2.** Apparently these sites have a bunch of different lengths. For a better understanding of this, write a `for` loop to determine how many sites there are of each length."
   ]
  },
  {
   "cell_type": "code",
   "execution_count": 18,
   "metadata": {},
   "outputs": [
    {
     "name": "stdout",
     "output_type": "stream",
     "text": [
      "33 bp: 1 sites\n",
      "36 bp: 11 sites\n",
      "37 bp: 1 sites\n",
      "38 bp: 1 sites\n",
      "40 bp: 1 sites\n",
      "42 bp: 358 sites\n",
      "43 bp: 3 sites\n"
     ]
    }
   ],
   "source": [
    "# Answer here\n",
    "\n",
    "# Get an array of lengths\n",
    "lengths = tf_df['length'].unique()\n",
    "\n",
    "# Sort these lengths from smallest to largest\n",
    "lengths.sort()\n",
    "\n",
    "# Print the number of sites that have each length\n",
    "for length in lengths:\n",
    "    num_sites = (tf_df['length']==length).sum()\n",
    "    print('%d bp: %d sites'%(length, num_sites))"
   ]
  },
  {
   "cell_type": "markdown",
   "metadata": {},
   "source": [
    "**E4.3.** Counts logos shown above aren't what people use in publications. Rather, they typically use \"information\" logos, like the one shown earlier. By making use of the keyword argument  `to_type='information'` in the function `logomaker.alignment_to_matrix()`, create a CRP information logo."
   ]
  },
  {
   "cell_type": "code",
   "execution_count": 19,
   "metadata": {
    "collapsed": true
   },
   "outputs": [],
   "source": [
    "# From cells in 4_tfanalysis.ipynb\n",
    "\n",
    "# Use the mode() method to compute the most common binding site length\n",
    "# Note that mode() returns a tuple, of which we need to manually extract the first element\n",
    "length_mode = tf_df['length'].mode()[0]\n",
    "\n",
    "# Flag rows having sites of the chosen length\n",
    "flags = (tf_df['length']==length_mode)\n",
    "\n",
    "# Only keep these rows\n",
    "tf_df = tf_df[flags]\n",
    "\n",
    "# Now extract the 'site' column from tf_df\n",
    "sites = tf_df['site']"
   ]
  },
  {
   "cell_type": "code",
   "execution_count": 20,
   "metadata": {},
   "outputs": [
    {
     "data": {
      "text/plain": [
       "<logomaker.src.Logo.Logo at 0x122312ba8>"
      ]
     },
     "execution_count": 20,
     "metadata": {},
     "output_type": "execute_result"
    },
    {
     "data": {
      "image/png": "[encoded data removed]",
      "text/plain": [
       "<Figure size 720x180 with 1 Axes>"
      ]
     },
     "metadata": {},
     "output_type": "display_data"
    }
   ],
   "source": [
    "# Answer here\n",
    "\n",
    "# Compute information matrix from this list of sites\n",
    "infomation_mat = logomaker.alignment_to_matrix(sites, to_type='information')\n",
    "\n",
    "# Visualize information matrix as a sequence logo\n",
    "logomaker.Logo(infomation_mat)"
   ]
  },
  {
   "cell_type": "markdown",
   "metadata": {},
   "source": [
    "**E4.4.** Using the `.groupby()` and `.sort_values()` methods of the dataframe `df`, create a new dataframe that lists the number of binding sites for each TF, sorted from most sites to least sites. You will need to set two keyword arguments in `.sort_values()`: `by='site'` and `ascending=False`."
   ]
  },
  {
   "cell_type": "code",
   "execution_count": 21,
   "metadata": {},
   "outputs": [
    {
     "data": {
      "text/html": [
       "<div>\n",
       "<style scoped>\n",
       "    .dataframe tbody tr th:only-of-type {\n",
       "        vertical-align: middle;\n",
       "    }\n",
       "\n",
       "    .dataframe tbody tr th {\n",
       "        vertical-align: top;\n",
       "    }\n",
       "\n",
       "    .dataframe thead th {\n",
       "        text-align: right;\n",
       "    }\n",
       "</style>\n",
       "<table border=\"1\" class=\"dataframe\">\n",
       "  <thead>\n",
       "    <tr style=\"text-align: right;\">\n",
       "      <th></th>\n",
       "      <th>site</th>\n",
       "    </tr>\n",
       "    <tr>\n",
       "      <th>tf</th>\n",
       "      <th></th>\n",
       "    </tr>\n",
       "  </thead>\n",
       "  <tbody>\n",
       "    <tr>\n",
       "      <th>CRP</th>\n",
       "      <td>376</td>\n",
       "    </tr>\n",
       "    <tr>\n",
       "      <th>Fis</th>\n",
       "      <td>269</td>\n",
       "    </tr>\n",
       "    <tr>\n",
       "      <th>Lrp</th>\n",
       "      <td>137</td>\n",
       "    </tr>\n",
       "    <tr>\n",
       "      <th>IHF</th>\n",
       "      <td>124</td>\n",
       "    </tr>\n",
       "    <tr>\n",
       "      <th>NarL</th>\n",
       "      <td>114</td>\n",
       "    </tr>\n",
       "  </tbody>\n",
       "</table>\n",
       "</div>"
      ],
      "text/plain": [
       "      site\n",
       "tf        \n",
       "CRP    376\n",
       "Fis    269\n",
       "Lrp    137\n",
       "IHF    124\n",
       "NarL   114"
      ]
     },
     "execution_count": 21,
     "metadata": {},
     "output_type": "execute_result"
    }
   ],
   "source": [
    "# Answer here\n",
    "num_sites_df = df.groupby('tf').count().sort_values(by='site', ascending=False)\n",
    "num_sites_df.head()"
   ]
  },
  {
   "cell_type": "markdown",
   "metadata": {},
   "source": [
    "**E4.5.** Fill out the function below so that the user can pass the name of any TF and get list of aligned sites back. Test that it works, e.g. on `tf='FNR'`, by getting a list of sites and making an information logo. Also test that it fails when it is supposed to."
   ]
  },
  {
   "cell_type": "code",
   "execution_count": 22,
   "metadata": {
    "collapsed": true
   },
   "outputs": [],
   "source": [
    "# Now let's turn this into a function \n",
    "def get_tf_sites(tf):\n",
    "   \n",
    "    # # Load database\n",
    "    df = pd.read_csv(\"data/binding_site_db.txt\", sep='\\t', comment='#',\n",
    "                 header=None, usecols=[1,11], names=['tf','site']).dropna()\n",
    "    \n",
    "    # Make sure tf is a string\n",
    "    assert isinstance(tf, str), 'tf = %s is not a string'%repr(tf)\n",
    "    \n",
    "    # Make sure tf is actually in df['tf']\n",
    "    assert tf in df['tf'].values, 'tf = %s is not in database.'%tf\n",
    "    \n",
    "    # Flag which rows in the dataframe have the correct TF name\n",
    "    flags = (df['tf']==tf)\n",
    "\n",
    "    # Grab those rows. To be safe use copy() to make sure that, if we\n",
    "    # alter tf_df, df itself doesn't change\n",
    "    tf_df = df[flags].copy()\n",
    "\n",
    "    # Get list of capitalized sites and replace the 'site' column with this\n",
    "    capitalized_sites = [site.upper() for site in tf_df['site']]\n",
    "    tf_df['site'] = capitalized_sites\n",
    "\n",
    "    # Compute the length of each site and record this in a 'length' column\n",
    "    site_lengths = [len(site) for site in tf_df['site']]\n",
    "    tf_df['length'] = site_lengths\n",
    "    \n",
    "    # Use the mode() method to compute the most common binding site length\n",
    "    length_mode = tf_df['length'].mode()[0]\n",
    "\n",
    "    # Flag rows having sites of the chosen length\n",
    "    flags = (tf_df['length']==length_mode)\n",
    "\n",
    "    # Only keep these rows\n",
    "    tf_df = tf_df[flags]\n",
    "    \n",
    "    # Get sequence alignment and return it\n",
    "    return tf_df['site']"
   ]
  },
  {
   "cell_type": "code",
   "execution_count": 23,
   "metadata": {},
   "outputs": [
    {
     "data": {
      "text/plain": [
       "<logomaker.src.Logo.Logo at 0x10fc07b70>"
      ]
     },
     "execution_count": 23,
     "metadata": {},
     "output_type": "execute_result"
    },
    {
     "data": {
      "image/png": "[encoded data removed]",
      "text/plain": [
       "<Figure size 720x180 with 1 Axes>"
      ]
     },
     "metadata": {},
     "output_type": "display_data"
    }
   ],
   "source": [
    "# Now test that it works\n",
    "sites = get_tf_sites('FNR')\n",
    "info_mat = logomaker.alignment_to_matrix(sites, to_type='information')\n",
    "logomaker.Logo(info_mat)"
   ]
  },
  {
   "cell_type": "code",
   "execution_count": 24,
   "metadata": {},
   "outputs": [
    {
     "ename": "AssertionError",
     "evalue": "tf = X is not in database.",
     "output_type": "error",
     "traceback": [
      "\u001b[0;31m---------------------------------------------------------------------------\u001b[0m",
      "\u001b[0;31mAssertionError\u001b[0m                            Traceback (most recent call last)",
      "\u001b[0;32m<ipython-input-24-76335826cd45>\u001b[0m in \u001b[0;36m<module>\u001b[0;34m()\u001b[0m\n\u001b[1;32m      1\u001b[0m \u001b[0;31m# And test that it fails when its supposed to\u001b[0m\u001b[0;34m\u001b[0m\u001b[0;34m\u001b[0m\u001b[0m\n\u001b[0;32m----> 2\u001b[0;31m \u001b[0msites\u001b[0m \u001b[0;34m=\u001b[0m \u001b[0mget_tf_sites\u001b[0m\u001b[0;34m(\u001b[0m\u001b[0;34m'X'\u001b[0m\u001b[0;34m)\u001b[0m\u001b[0;34m\u001b[0m\u001b[0m\n\u001b[0m",
      "\u001b[0;32m<ipython-input-22-dc46804c705d>\u001b[0m in \u001b[0;36mget_tf_sites\u001b[0;34m(tf)\u001b[0m\n\u001b[1;32m     10\u001b[0m \u001b[0;34m\u001b[0m\u001b[0m\n\u001b[1;32m     11\u001b[0m     \u001b[0;31m# Make sure tf is actually in df['tf']\u001b[0m\u001b[0;34m\u001b[0m\u001b[0;34m\u001b[0m\u001b[0m\n\u001b[0;32m---> 12\u001b[0;31m     \u001b[0;32massert\u001b[0m \u001b[0mtf\u001b[0m \u001b[0;32min\u001b[0m \u001b[0mdf\u001b[0m\u001b[0;34m[\u001b[0m\u001b[0;34m'tf'\u001b[0m\u001b[0;34m]\u001b[0m\u001b[0;34m.\u001b[0m\u001b[0mvalues\u001b[0m\u001b[0;34m,\u001b[0m \u001b[0;34m'tf = %s is not in database.'\u001b[0m\u001b[0;34m%\u001b[0m\u001b[0mtf\u001b[0m\u001b[0;34m\u001b[0m\u001b[0m\n\u001b[0m\u001b[1;32m     13\u001b[0m \u001b[0;34m\u001b[0m\u001b[0m\n\u001b[1;32m     14\u001b[0m     \u001b[0;31m# Flag which rows in the dataframe have the correct TF name\u001b[0m\u001b[0;34m\u001b[0m\u001b[0;34m\u001b[0m\u001b[0m\n",
      "\u001b[0;31mAssertionError\u001b[0m: tf = X is not in database."
     ]
    }
   ],
   "source": [
    "# And test that it fails when its supposed to\n",
    "sites = get_tf_sites('X')"
   ]
  },
  {
   "cell_type": "code",
   "execution_count": 25,
   "metadata": {},
   "outputs": [
    {
     "ename": "AssertionError",
     "evalue": "tf = -1.2 is not a string",
     "output_type": "error",
     "traceback": [
      "\u001b[0;31m---------------------------------------------------------------------------\u001b[0m",
      "\u001b[0;31mAssertionError\u001b[0m                            Traceback (most recent call last)",
      "\u001b[0;32m<ipython-input-25-e8abca9bd13e>\u001b[0m in \u001b[0;36m<module>\u001b[0;34m()\u001b[0m\n\u001b[1;32m      1\u001b[0m \u001b[0;31m# And test that it fails when its supposed to\u001b[0m\u001b[0;34m\u001b[0m\u001b[0;34m\u001b[0m\u001b[0m\n\u001b[0;32m----> 2\u001b[0;31m \u001b[0msites\u001b[0m \u001b[0;34m=\u001b[0m \u001b[0mget_tf_sites\u001b[0m\u001b[0;34m(\u001b[0m\u001b[0;34m-\u001b[0m\u001b[0;36m1.2\u001b[0m\u001b[0;34m)\u001b[0m\u001b[0;34m\u001b[0m\u001b[0m\n\u001b[0m",
      "\u001b[0;32m<ipython-input-22-dc46804c705d>\u001b[0m in \u001b[0;36mget_tf_sites\u001b[0;34m(tf)\u001b[0m\n\u001b[1;32m      7\u001b[0m \u001b[0;34m\u001b[0m\u001b[0m\n\u001b[1;32m      8\u001b[0m     \u001b[0;31m# Make sure tf is a string\u001b[0m\u001b[0;34m\u001b[0m\u001b[0;34m\u001b[0m\u001b[0m\n\u001b[0;32m----> 9\u001b[0;31m     \u001b[0;32massert\u001b[0m \u001b[0misinstance\u001b[0m\u001b[0;34m(\u001b[0m\u001b[0mtf\u001b[0m\u001b[0;34m,\u001b[0m \u001b[0mstr\u001b[0m\u001b[0;34m)\u001b[0m\u001b[0;34m,\u001b[0m \u001b[0;34m'tf = %s is not a string'\u001b[0m\u001b[0;34m%\u001b[0m\u001b[0mrepr\u001b[0m\u001b[0;34m(\u001b[0m\u001b[0mtf\u001b[0m\u001b[0;34m)\u001b[0m\u001b[0;34m\u001b[0m\u001b[0m\n\u001b[0m\u001b[1;32m     10\u001b[0m \u001b[0;34m\u001b[0m\u001b[0m\n\u001b[1;32m     11\u001b[0m     \u001b[0;31m# Make sure tf is actually in df['tf']\u001b[0m\u001b[0;34m\u001b[0m\u001b[0;34m\u001b[0m\u001b[0m\n",
      "\u001b[0;31mAssertionError\u001b[0m: tf = -1.2 is not a string"
     ]
    }
   ],
   "source": [
    "# And test that it fails when its supposed to\n",
    "sites = get_tf_sites(-1.2)"
   ]
  },
  {
   "cell_type": "code",
   "execution_count": null,
   "metadata": {
    "collapsed": true
   },
   "outputs": [],
   "source": []
  }
 ],
 "metadata": {
  "kernelspec": {
   "display_name": "anaconda_kernel",
   "language": "python",
   "name": "anaconda_kernel"
  },
  "language_info": {
   "codemirror_mode": {
    "name": "ipython",
    "version": 3
   },
   "file_extension": ".py",
   "mimetype": "text/x-python",
   "name": "python",
   "nbconvert_exporter": "python",
   "pygments_lexer": "ipython3",
   "version": "3.6.6"
  }
 },
 "nbformat": 4,
 "nbformat_minor": 1
}
